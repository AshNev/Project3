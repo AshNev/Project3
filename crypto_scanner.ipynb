{
 "cells": [
  {
   "cell_type": "code",
   "execution_count": 1,
   "id": "196542c4-040f-401d-90a5-fb5521772149",
   "metadata": {},
   "outputs": [],
   "source": [
    "from binance import Client\n",
    "import websockets\n",
    "import json\n",
    "import pandas as pd\n",
    "import asyncio\n",
    "import time\n",
    "import threading\n",
    "from colorama import Fore, Back, Style"
   ]
  },
  {
   "cell_type": "code",
   "execution_count": 2,
   "id": "7ecc46aa-0803-407e-85cd-d505f6e9d977",
   "metadata": {},
   "outputs": [],
   "source": [
    "api_key = 'HebcaWIceNKowmEbtQBkAddeW8rEjMUhD5Mmi3aV8WXlcu1rDITVhOx0NvH8tLBk'\n",
    "api_secret = 'bQAXOTWFDpdGAtcIQozQG4vPDKzmflaAMg9U48ncvC0VngyqBhuyiJXI6zElbB57'"
   ]
  },
  {
   "cell_type": "code",
   "execution_count": 3,
   "id": "4025c42c-d097-4cb9-8df3-39d9ee33edcd",
   "metadata": {},
   "outputs": [],
   "source": [
    "client = Client(api_key, api_secret)"
   ]
  },
  {
   "cell_type": "code",
   "execution_count": 4,
   "id": "230fb0ae-9d79-400d-a117-500b0f3f7246",
   "metadata": {},
   "outputs": [],
   "source": [
    "def createframe(msg):\n",
    "    df = pd.DataFrame([msg])\n",
    "    df = df.loc[:,['s','E','c','v']]\n",
    "    df.columns = ['Symbol','Time','Price','Volume']\n",
    "    df.Price = df.Price.astype(float)\n",
    "    df.Time = pd.to_datetime(df.Time, unit='ms')\n",
    "    return df"
   ]
  },
  {
   "cell_type": "code",
   "execution_count": 5,
   "id": "eed96873-535d-4810-adc9-d6246b070867",
   "metadata": {},
   "outputs": [],
   "source": [
    "def get_sma(l, p):\n",
    "    return sum(l[-p:])/p"
   ]
  },
  {
   "cell_type": "code",
   "execution_count": null,
   "id": "77c17e89-8049-49b2-8131-cfad95616ac5",
   "metadata": {},
   "outputs": [],
   "source": []
  },
  {
   "cell_type": "code",
   "execution_count": 6,
   "id": "0dde52c7-f53a-4837-8b02-1623f7657dfb",
   "metadata": {},
   "outputs": [],
   "source": [
    "coins = ['dogeusdt','btcusdt','ethusdt','linkusdt','uniusdt','algousdt','maticusdt','compusdt','lunausdt','dodousdt','ankrusdt','milusdt','gtcusdt','ampusdt','aaveusdt','adausdt','cakeusdt','bnbusdt','crvusdt','xlmusdt','sushiusdt','grtusdt']\n",
    "price_percentage_change = 0.05 / 100\n",
    "volume_percentage_change = 0.01 / 100\n",
    "interval = 30 # interval in seconds\n",
    "ma_points = 10 # number of moving average points to use\n",
    "\n",
    "async def get_data(pair):\n",
    "    first_time = True\n",
    "    vol_sig = False\n",
    "    price_sig = False\n",
    "    \n",
    "    current = {}\n",
    "    previous = {}\n",
    "    stream = websockets.connect(f'wss://stream.binance.com:9443/stream?streams={pair}@miniTicker')\n",
    "    while(True):\n",
    "        async with stream as receiver:   \n",
    "            data = await receiver.recv()\n",
    "            data = json.loads(data)['data']\n",
    "            if first_time == True:\n",
    "                df = createframe(data)\n",
    "                first_time = False\n",
    "                account = {\n",
    "                    \"Symbol\": df.iloc[0]['Symbol'],\n",
    "                    \"Balance\": 1000,\n",
    "                    \"Holdings\": 0\n",
    "                }\n",
    "            else:\n",
    "                df = df.append(createframe(data), ignore_index=True)\n",
    "            \n",
    "            if len(df.index) > ma_points:\n",
    "                ma = get_sma(df[\"Price\"], ma_points)\n",
    "                curr_price = float(df.iloc[-1][\"Price\"])\n",
    "                prev_price = float(df.iloc[-2][\"Price\"])\n",
    "                curr_vol = float(df.iloc[-1][\"Volume\"])\n",
    "                prev_vol = float(df.iloc[-2][\"Volume\"])\n",
    "                \n",
    "                time = pd.to_datetime(df.iloc[-1][\"Time\"], unit=\"ms\")\n",
    "                if curr_price > prev_price + (prev_price * price_percentage_change):\n",
    "                    price_sig = True\n",
    "#                     print(Fore.GREEN)\n",
    "#                     print(f\"{time}: {df.iloc[0]['Symbol']} rose from {prev_price} to {curr_price}\")\n",
    "#                     print(Style.RESET_ALL)\n",
    "                if curr_vol > prev_vol + (prev_vol * volume_percentage_change):\n",
    "                    vol_sig = True\n",
    "#                     print(f\"{time}: volume of {df.iloc[0]['Symbol']} rose by at least {volume_percentage_change * 100}%\")\n",
    "\n",
    "                if curr_price > ma and price_sig and vol_sig:\n",
    "                    print(Fore.GREEN)\n",
    "                    stocks = 100/curr_price\n",
    "                    account[\"Holdings\"] = account[\"Holdings\"] + stocks\n",
    "                    account[\"Balance\"] = account[\"Balance\"] - 100\n",
    "                    print(f\"Bought {stocks} units of {df.iloc[0]['Symbol']} at {curr_price}\")\n",
    "                    print(account)\n",
    "                    print(\"Total bag: \", account[\"Holdings\"] * curr_price + account[\"Balance\"])\n",
    "                    print(Style.RESET_ALL)\n",
    "                    price_sig = False\n",
    "                    vol_sig = False\n",
    "                    \n",
    "                if curr_price < ma and account[\"Holdings\"] != 0:\n",
    "                    print(Fore.RED)\n",
    "                    print(f\"Sold account['Holdings'] units of {df.iloc[0]['Symbol']} at {curr_price}\")\n",
    "                    account[\"Balance\"] = account[\"Balance\"] + account[\"Holdings\"] * curr_price\n",
    "                    account[\"Holdings\"] = 0\n",
    "                    print(account)\n",
    "                    print(\"Total monies: \", account[\"Balance\"])\n",
    "                    print(Style.RESET_ALL)\n",
    "                    price_sig = False\n",
    "                    vol_sig = False\n",
    "                      \n",
    "            await asyncio.sleep(interval)\n",
    "        \n",
    "def wrapper_func(pair):\n",
    "    loop = asyncio.new_event_loop()\n",
    "    asyncio.set_event_loop(loop)\n",
    "\n",
    "    loop.run_until_complete(get_data(pair))\n",
    "    loop.close()"
   ]
  },
  {
   "cell_type": "code",
   "execution_count": null,
   "id": "e2b435a8-6102-4fba-b906-ed5c1b259706",
   "metadata": {},
   "outputs": [],
   "source": [
    "threads = []\n",
    "for coin in coins:\n",
    "    t = threading.Thread(target=wrapper_func, args=(coin, ))\n",
    "    threads.append(t)\n",
    "    t.start()\n",
    "    \n",
    "for thread in threads:\n",
    "    thread.join()"
   ]
  },
  {
   "cell_type": "code",
   "execution_count": null,
   "id": "edc9aafd-980a-4216-a732-0558a3ca00fc",
   "metadata": {},
   "outputs": [],
   "source": []
  },
  {
   "cell_type": "markdown",
   "id": "5c56885e-3c8f-4a2a-901d-ed5ce5ee8644",
   "metadata": {},
   "source": [
    "# "
   ]
  }
 ],
 "metadata": {
  "kernelspec": {
   "display_name": "Python 3 (ipykernel)",
   "language": "python",
   "name": "python3"
  },
  "language_info": {
   "codemirror_mode": {
    "name": "ipython",
    "version": 3
   },
   "file_extension": ".py",
   "mimetype": "text/x-python",
   "name": "python",
   "nbconvert_exporter": "python",
   "pygments_lexer": "ipython3",
   "version": "3.8.8"
  }
 },
 "nbformat": 4,
 "nbformat_minor": 5
}
